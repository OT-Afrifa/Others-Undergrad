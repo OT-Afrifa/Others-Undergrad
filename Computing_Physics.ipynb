{
 "cells": [
  {
   "cell_type": "markdown",
   "id": "7fd275e8",
   "metadata": {},
   "source": [
    "<h2> CHAPTER THREE : BASIC NUMERICAL TOOLS <h2>\n",
    "    \n",
    "***\n",
    "<h3>3.0 NUMERICAL SOLUTION <h3/>\n",
    "\n",
    "***    \n",
    "### Examples (Finding the root of a function)\n"
   ]
  },
  {
   "cell_type": "markdown",
   "id": "d2f214c2",
   "metadata": {},
   "source": [
    " **The Bisection Method** \n",
    "    \n",
    "To use the bisection method of finding a root,\n",
    "    \n",
    "* start with two guesses on either side of the root: we’ll call guess to the left of the root a, and the guess to the right of the root b as shown in the figure below: ![fig 1](bisection.jpg)\n",
    "\n",
    "* find the value of the function at the midpoint x between a and b. \n",
    "\n",
    "* Compare the signs of f(x) and f(a): \n",
    "\n",
    "  i. if the signs are different, then the root must be between a and x, so let b = x.\n",
    "  \n",
    "  ii. if the signs are the same, then the root must be between x and b, so let a = x. \n",
    "\n",
    "\n",
    "* a and b are such that the solution is still between the two, but they’re half as far apart! Repeat this process until the distance between a and b is less than the desired tolerance for your solution. \n",
    "    \n",
    "\n"
   ]
  },
  {
   "cell_type": "markdown",
   "id": "d2c94af7",
   "metadata": {},
   "source": [
    "`Example 3.0.1: Here’s a program to solve f (x) = 0, in Python code: `"
   ]
  },
  {
   "cell_type": "code",
   "execution_count": 102,
   "id": "72357f2f",
   "metadata": {},
   "outputs": [
    {
     "name": "stdout",
     "output_type": "stream",
     "text": [
      "Enter two guesses, separated by commas : 1,4\n",
      "Found f(x) = 0 at x = %.8f +/− %0.8f as (1.69460129737854, 1e-06)\n"
     ]
    }
   ],
   "source": [
    "#! /usr/bin/env python\n",
    "\n",
    "#This program uses the bisection method to find the root of f(x) = exp(x)∗ ln(x) −x ∗ x = 0\n",
    "\n",
    "from math import *         #math functions and constants\n",
    "\n",
    "tolerance = 1.0e-6         #solution tolerance.\n",
    "\n",
    "def f(x):                  #function definition : this is the function to which we are finding a (the) root.\n",
    "            \n",
    "        f = exp(x) * log(x) - x**2\n",
    "\n",
    "        return f\n",
    "\n",
    "\n",
    "#Get the initial guesses\n",
    "a , b = input(\"Enter two guesses, separated by commas : \" ).split(',')\n",
    "\n",
    "a = int(a)\n",
    "b = int(b)\n",
    "\n",
    "dx = abs(b-a)                 #initial value of dx\n",
    "\n",
    "while dx > tolerance:         #Repeat until dx < tolerance\n",
    "    #print(dx)\n",
    "    x = (a+b)/ 2.0\n",
    "    if (f(a) * f(x)) < 0 :    #root is in left half\n",
    "        b = x\n",
    "    else :                   #root is in right half\n",
    "        a = x\n",
    "    dx = abs(b-a)            #update uncertainty in root location\n",
    "    #print(dx)\n",
    "\n",
    "#print ('Found f(x) = 0 at x = %.8f +/− %0.8f' is (x, tolerance))\n",
    "print (f'Found f(x) = 0 at x = %.8f +/− %0.8f as {x,tolerance}')"
   ]
  },
  {
   "cell_type": "code",
   "execution_count": null,
   "id": "1d094af0",
   "metadata": {},
   "outputs": [],
   "source": []
  },
  {
   "cell_type": "markdown",
   "id": "92d23e4e",
   "metadata": {},
   "source": [
    "**The Newton Method**\n",
    "\n",
    "Note that in the code above, the function could be any\n",
    "function that returns a numeric value. In the example it’s a relatively sim-\n",
    "ple numeric function, but it doesn’t have to be a numeric function in the\n",
    "mathematical sense. You could just as well have a function that — for ex-\n",
    "ample — runs a complete simulation and returns the final result. If you can\n",
    "write a function that returns a continuous numeric result, you can use that\n",
    "function with the bisection method.\n",
    "With this in mind, it would be very handy to have a bisection-method\n",
    "root-finding function that could be used in any general case. Something that\n",
    "you could call like this would be ideal:\n",
    "`answer = root bisection (Equation, First Guess, SecondGuess)`\n"
   ]
  },
  {
   "cell_type": "markdown",
   "id": "d72dc906",
   "metadata": {},
   "source": [
    "`Here’s how to do just that:`"
   ]
  },
  {
   "cell_type": "code",
   "execution_count": 241,
   "id": "6580c53b",
   "metadata": {},
   "outputs": [],
   "source": [
    "def root_bisection(f, a, b, tolerance=1.0e-6):\n",
    "    '''\n",
    "    Uses the bisection method to find a value x between a and b\n",
    "    for which f(x) = 0 , to within the tolerance given.\n",
    "\n",
    "    Default tolerance is 1.0e−6, if no tolerance is specified in the function call.\n",
    "\n",
    "    '''\n",
    "    a = int(a)\n",
    "    b = int(b)\n",
    "    dx = abs(b-a)\n",
    "    \n",
    "    while dx > tolerance:  #Repeat until dx < tolerance\n",
    "        x = (a+b)/ 2.0\n",
    "        if (f(a) * f(x)) < 0 : #root is in left half\n",
    "            b = x\n",
    "        else :  #root is in right half\n",
    "            a = x\n",
    "        dx = abs(b-a) # update uncertainty in root location\n",
    "    \n",
    "    return x"
   ]
  },
  {
   "cell_type": "markdown",
   "id": "0e4d2c24",
   "metadata": {},
   "source": [
    "We can then include this function in any Python program, and\n",
    "use it to find the root of any function you define. Just pass the\n",
    "name of that function to `root_bisection ().`\n"
   ]
  },
  {
   "cell_type": "markdown",
   "id": "b13f6757",
   "metadata": {},
   "source": [
    "`Example 3.0.2: Assuming we want to find the value of θ for which sin θ = 1. Here’s how to do just that:`"
   ]
  },
  {
   "cell_type": "code",
   "execution_count": 242,
   "id": "ed63e317",
   "metadata": {
    "scrolled": true
   },
   "outputs": [
    {
     "data": {
      "image/png": "[encoded data removed]",
      "text/latex": [
       "$\\displaystyle 2.99999904632568$"
      ],
      "text/plain": [
       "2.9999990463256836"
      ]
     },
     "execution_count": 242,
     "metadata": {},
     "output_type": "execute_result"
    }
   ],
   "source": [
    "theta_0= root_bisection(sin,1,pi)\n",
    "theta_0"
   ]
  },
  {
   "cell_type": "code",
   "execution_count": null,
   "id": "ae3e0206",
   "metadata": {},
   "outputs": [],
   "source": []
  },
  {
   "cell_type": "markdown",
   "id": "f5ef90ea",
   "metadata": {},
   "source": [
    "Newton’s method of rootfinding requires that one knows both the function f (x) and its derivative f ' (x) = df / dx.\n",
    "Start with a guess a, and calculate the values of f (a) and f ' (a). See figure below: ![Fig 2.3](newton.jpg)\n",
    "Use the point-slope form of a line to find the new point b at which the slope from f(a) intersects the line y = 0.\n",
    "\n",
    "f (a) = f ' (a) (a − b) + 0 =⇒ b = a − [ f (a) / f ' (a) ]\n",
    "\n",
    "Repeat the process, starting from point b, and continue repeating until the\n",
    "change from one step to the next is less than the maximum permissible error."
   ]
  },
  {
   "cell_type": "markdown",
   "id": "6f5814fa",
   "metadata": {},
   "source": [
    "`Here's a Python code for that:`"
   ]
  },
  {
   "cell_type": "code",
   "execution_count": 251,
   "id": "dcdf90e1",
   "metadata": {},
   "outputs": [],
   "source": [
    "def root_newton(f, df, guess, tolerance = 1.0e-6):\n",
    "    '''\n",
    "    Uses the Newton's method to find a value x near guess\n",
    "    for which f(x) = 0 , to within the tolerance given.\n",
    "\n",
    "    Default tolerance is 1.0e−6, if no tolerance is specified in the function call.\n",
    "    It is required to pass this function both f(x) and f'(x).\n",
    "\n",
    "    '''\n",
    "    dx = 2*tolerance          #Initial dx > delta\n",
    "    x=guess\n",
    "    #x=int(x)\n",
    "    while dx > tolerance:  #loop until dx < tolerance\n",
    "        \n",
    "        x1 = x - f(x)/df(x) #Point-slope form of line\n",
    "        dx = abs(x-x1)      #How much have things changed?\n",
    "        x = x1              #Here's the new value\n",
    "    \n",
    "    return x"
   ]
  },
  {
   "cell_type": "markdown",
   "id": "fdc6dd39",
   "metadata": {},
   "source": [
    "`Example 3.0.3: Assuming we want to find the value of θ for which cos θ = 1. Here’s how to do just that:`"
   ]
  },
  {
   "cell_type": "code",
   "execution_count": 232,
   "id": "d349c7e4",
   "metadata": {
    "scrolled": true
   },
   "outputs": [
    {
     "data": {
      "text/latex": [
       "$\\displaystyle - \\sin{\\left(x \\right)}$"
      ],
      "text/plain": [
       "-sin(x)"
      ]
     },
     "execution_count": 232,
     "metadata": {},
     "output_type": "execute_result"
    }
   ],
   "source": [
    "der = lambda fn:sym.diff(fn)\n",
    "der(sym.cos(x))"
   ]
  },
  {
   "cell_type": "code",
   "execution_count": 239,
   "id": "25fbceac",
   "metadata": {},
   "outputs": [
    {
     "data": {
      "image/png": "[encoded data removed]",
      "text/latex": [
       "$\\displaystyle \\cos{\\left(x \\right)}$"
      ],
      "text/plain": [
       "cos(x)"
      ]
     },
     "execution_count": 239,
     "metadata": {},
     "output_type": "execute_result"
    }
   ],
   "source": [
    "import sympy as sp\n",
    "sp.init_printing()\n",
    "\n",
    "x = sp.Symbol('x')\n",
    "y,z,f = sp.symbols('y,z,f')\n",
    "\n",
    "#g = sp.Function('g')\n",
    "\n",
    "f = \n",
    "\n",
    "\n"
   ]
  },
  {
   "cell_type": "code",
   "execution_count": 271,
   "id": "50729063",
   "metadata": {},
   "outputs": [
    {
     "ename": "TypeError",
     "evalue": "'Mul' object is not callable",
     "output_type": "error",
     "traceback": [
      "\u001b[0;31m---------------------------------------------------------------------------\u001b[0m",
      "\u001b[0;31mTypeError\u001b[0m                                 Traceback (most recent call last)",
      "\u001b[0;32m<ipython-input-271-a89033d9cf8a>\u001b[0m in \u001b[0;36m<module>\u001b[0;34m\u001b[0m\n\u001b[1;32m     15\u001b[0m \u001b[0;31m#df(fn)\u001b[0m\u001b[0;34m\u001b[0m\u001b[0;34m\u001b[0m\u001b[0;34m\u001b[0m\u001b[0m\n\u001b[1;32m     16\u001b[0m \u001b[0;34m\u001b[0m\u001b[0m\n\u001b[0;32m---> 17\u001b[0;31m \u001b[0mtheta_1\u001b[0m \u001b[0;34m=\u001b[0m \u001b[0mroot_newton\u001b[0m\u001b[0;34m(\u001b[0m\u001b[0mf\u001b[0m\u001b[0;34m,\u001b[0m \u001b[0mdf\u001b[0m\u001b[0;34m(\u001b[0m\u001b[0mfn\u001b[0m\u001b[0;34m)\u001b[0m\u001b[0;34m,\u001b[0m \u001b[0;36m1\u001b[0m\u001b[0;34m)\u001b[0m\u001b[0;34m\u001b[0m\u001b[0;34m\u001b[0m\u001b[0m\n\u001b[0m\u001b[1;32m     18\u001b[0m \u001b[0;31m#theta_1\u001b[0m\u001b[0;34m\u001b[0m\u001b[0;34m\u001b[0m\u001b[0;34m\u001b[0m\u001b[0m\n",
      "\u001b[0;32m<ipython-input-251-8d5a77a8d50b>\u001b[0m in \u001b[0;36mroot_newton\u001b[0;34m(f, df, guess, tolerance)\u001b[0m\n\u001b[1;32m     13\u001b[0m     \u001b[0;32mwhile\u001b[0m \u001b[0mdx\u001b[0m \u001b[0;34m>\u001b[0m \u001b[0mtolerance\u001b[0m\u001b[0;34m:\u001b[0m  \u001b[0;31m#loop until dx < tolerance\u001b[0m\u001b[0;34m\u001b[0m\u001b[0;34m\u001b[0m\u001b[0m\n\u001b[1;32m     14\u001b[0m \u001b[0;34m\u001b[0m\u001b[0m\n\u001b[0;32m---> 15\u001b[0;31m         \u001b[0mx1\u001b[0m \u001b[0;34m=\u001b[0m \u001b[0mx\u001b[0m \u001b[0;34m-\u001b[0m \u001b[0mf\u001b[0m\u001b[0;34m(\u001b[0m\u001b[0mx\u001b[0m\u001b[0;34m)\u001b[0m\u001b[0;34m/\u001b[0m\u001b[0mdf\u001b[0m\u001b[0;34m(\u001b[0m\u001b[0mx\u001b[0m\u001b[0;34m)\u001b[0m \u001b[0;31m#Point-slope form of line\u001b[0m\u001b[0;34m\u001b[0m\u001b[0;34m\u001b[0m\u001b[0m\n\u001b[0m\u001b[1;32m     16\u001b[0m         \u001b[0mdx\u001b[0m \u001b[0;34m=\u001b[0m \u001b[0mabs\u001b[0m\u001b[0;34m(\u001b[0m\u001b[0mx\u001b[0m\u001b[0;34m-\u001b[0m\u001b[0mx1\u001b[0m\u001b[0;34m)\u001b[0m      \u001b[0;31m#How much have things changed?\u001b[0m\u001b[0;34m\u001b[0m\u001b[0;34m\u001b[0m\u001b[0m\n\u001b[1;32m     17\u001b[0m         \u001b[0mx\u001b[0m \u001b[0;34m=\u001b[0m \u001b[0mx1\u001b[0m              \u001b[0;31m#Here's the new value\u001b[0m\u001b[0;34m\u001b[0m\u001b[0;34m\u001b[0m\u001b[0m\n",
      "\u001b[0;31mTypeError\u001b[0m: 'Mul' object is not callable"
     ]
    }
   ],
   "source": [
    "\n",
    "def f(x):     #function definition : this is the function to which we are finding a (the) root.\n",
    "            \n",
    "    f = cos(x)\n",
    "\n",
    "    return f\n",
    "\n",
    "\n",
    "\n",
    "\n",
    "\n",
    "def df(fn):\n",
    "    fn = sym.cos(x)\n",
    "    df = sym.diff(fn)\n",
    "    return df\n",
    "#df(fn)\n",
    "\n",
    "theta_1 = root_newton(f, df(fn), 1) \n",
    "#theta_1"
   ]
  },
  {
   "cell_type": "code",
   "execution_count": 151,
   "id": "abe6ed9c",
   "metadata": {
    "scrolled": true
   },
   "outputs": [
    {
     "name": "stdout",
     "output_type": "stream",
     "text": [
      "Enter a value: 1\n"
     ]
    }
   ],
   "source": [
    "def f(x):     #function definition : this is the function to which we are finding a (the) root.\n",
    "            \n",
    "    f = cos(x)\n",
    "\n",
    "    return f\n",
    "    \n",
    "    \n",
    "def df(x):\n",
    "    df = -sin(x)\n",
    "    return df\n",
    "\n",
    "dx = 2*tolerance          #Initial dx > delta\n",
    "x = input(\"Enter a value: \" )    \n",
    "x = int(x)    \n",
    "while dx > tolerance:  #loop until dx < tolerance\n",
    "    \n",
    "    x1 = x - f(x)/df(x) #Point-slope form of line\n",
    "    dx = abs(x-x1)      #How much have things changed?\n",
    "    x = x1              #Here's the new value\n"
   ]
  },
  {
   "cell_type": "code",
   "execution_count": 152,
   "id": "4885a739",
   "metadata": {},
   "outputs": [
    {
     "name": "stdout",
     "output_type": "stream",
     "text": [
      "1.5707963267948966\n"
     ]
    }
   ],
   "source": [
    "print(x)"
   ]
  },
  {
   "cell_type": "markdown",
   "id": "25fad39c",
   "metadata": {},
   "source": [
    "`Note:`\n",
    "* Newton’s method is generally much faster than the bisection method.*\n",
    "\n",
    "* It is not as robust, though. For best results, your initial guess should be near the actual solution, and should not be separated from the solution by any local extremes.*\n",
    "\n",
    "In addition, Newton’s method does not work well near\n",
    "discontinuities in f . \n",
    "\n",
    "`The biggest disadvantage to Newton’s method, though, is that it requires knowledge of f ' (x). If you don’t know, or can’t obtain, a function that describes the derivative, then Newton’s method is not an option.`"
   ]
  },
  {
   "cell_type": "markdown",
   "id": "85b41a47",
   "metadata": {},
   "source": [
    "**The Secant Method** \n",
    "\n",
    "The secant method is a modification of Newton’s method which has the\n",
    "advantage of not needing the derivative function.\n",
    "\n",
    "* Start with two guesses, a and b. These should be near the desired solution, as with Newton’s method, but they don’t have to bracket the solution like they do with the bisection method.*\n",
    "\n",
    "* Use the values of f (a) and f (b) to approximate the slope of the curve, instead of using a function f ' (x) to find the slope exactly, as was done in Newton’s method. (see figure below)* ![figure 2.4](secant.jpg/)\n",
    "\n",
    "* Find the value of x at which the line through points (a, f (a)) and (b, f (b)) hits the x axis.*\n",
    "\n",
    "* Repeat the process with the new point and the initial guess that is closest to the new point. Keep repeating until the change from one iteration to the next is less than the desired tolerance.*"
   ]
  },
  {
   "cell_type": "markdown",
   "id": "bb244512",
   "metadata": {},
   "source": [
    "`Problem : Write a generalized function implementing the secant method of root-finding.`"
   ]
  },
  {
   "cell_type": "markdown",
   "id": "b195157f",
   "metadata": {},
   "source": [
    "***\n",
    "<h4>3.0.1 PYTHON LIBRARIES <h4/>\n",
    "\n",
    "***  "
   ]
  },
  {
   "cell_type": "markdown",
   "id": "d55417fc",
   "metadata": {},
   "source": [
    "Finding roots is a common-enough problem that people have written some good \n",
    "libraries to take care of it for you. \n",
    "\n",
    "One of those libraries is scipy.optimize, a subset of the “scientific Python” (scipy) library. Scipy includes \n",
    "implementations of the bisection method ( bisect () ), Newton’s method ( newton() ), and \n",
    "several others including the brentq() routine.\n",
    "\n",
    "`Example 3.0.3: The brentq() routine can find roots about as fast as the secant method while guaranteeing to find an existing solution between the given endpoints.This is done by combining root-bracketing, bisection, and inverse quadratic interpolation. An example is as follows:`"
   ]
  },
  {
   "cell_type": "code",
   "execution_count": 1,
   "id": "e4ea4a71",
   "metadata": {},
   "outputs": [
    {
     "name": "stdout",
     "output_type": "stream",
     "text": [
      "3.141592653589793 0.0\n"
     ]
    }
   ],
   "source": [
    "from pylab import *\n",
    "from scipy. optimize import brentq\n",
    "\n",
    "x = brentq ( sin , 2 , 4)\n",
    "\n",
    "# will find value of x between 2 and 4 for which sin (x) = 0\n",
    "\n",
    "print (x , x-pi)"
   ]
  },
  {
   "cell_type": "markdown",
   "id": "3d405e1c",
   "metadata": {},
   "source": [
    "`Here's a tip:`\n",
    "\n",
    "It’s important to know how to *“roll your own”* ; to be able to write routines for basic tasks such as root-finding. It is also important to know when to use existing code. *The brentq () routine is a good example of when to use existing code.* \n",
    "\n",
    "* **Unless you are finding roots of a pathologically difficult function, brentq() will find the solution quickly and accurately and save you a lot of work.** *"
   ]
  },
  {
   "cell_type": "markdown",
   "id": "d22d8f68",
   "metadata": {},
   "source": [
    "***\n",
    "<h3>3.2 NUMERIC INTEGRATION <h3/>\n",
    "\n",
    "***\n",
    "    \n",
    "    \n",
    "![Figure 3.5](Int.jpg)"
   ]
  },
  {
   "cell_type": "markdown",
   "id": "571c804f",
   "metadata": {},
   "source": [
    "Consider the function shown in the figure above, depending on the functional form of \n",
    "f (x), it may not be possible to calculate the integral of f from a to b analytically.\n",
    "\n",
    "The integral of f (x) from a to b is the area under the curve, though, which leads to the earliest numeric method of estimating that integral."
   ]
  },
  {
   "cell_type": "markdown",
   "id": "719318ac",
   "metadata": {},
   "source": [
    "### Simple Method ###\n",
    "\n",
    "The simplest method of estimating the integral shown in figure 2.5 above is to \n",
    "divide the integration range into N slices of width dx. Calculate the value of f (x i ) at some point on each slice, and find the area A i = f (x i )∆x for\n",
    "each slice, as shown in this figure: ![figure 2.6.](Int1.png) The integral is then approximately: ![IntEqu](intequ.jpg)\n",
    "\n",
    "`A python implementation of the simple integration method could look something like this:`"
   ]
  },
  {
   "cell_type": "code",
   "execution_count": 127,
   "id": "f6c75687",
   "metadata": {},
   "outputs": [],
   "source": [
    "def int_simple(fn, a, b, N):\n",
    "    '''\n",
    "    A routine to do a simple rectangular−slice approximation of an integral.\n",
    "    fn: the function to integrate\n",
    "    a,b: lower and upper limits of integration respectively\n",
    "    N: number of slices to take\n",
    "    \n",
    "    '''\n",
    "    I = 0\n",
    "    dx = (b-a)/float(N)\n",
    "    for j in range(N):\n",
    "        x = a + dx * j\n",
    "        I = I + fn(x) * dx\n",
    "    return I"
   ]
  },
  {
   "cell_type": "markdown",
   "id": "88bb669e",
   "metadata": {},
   "source": [
    "`Example 3.0.4: Assuming we want to find the integral of a function f(x) = cos(x) with limits of integration a (lower limit) = 1 and b (upper limit) = 4 over N = 20 slices, then the python program is: `"
   ]
  },
  {
   "cell_type": "code",
   "execution_count": 134,
   "id": "bca010d9",
   "metadata": {},
   "outputs": [
    {
     "name": "stdout",
     "output_type": "stream",
     "text": [
      "-1.5057296484473184\n"
     ]
    }
   ],
   "source": [
    "int_cos_x = int_simple(cos, 1, 4, 20)\n",
    "print(int_cos_x)"
   ]
  },
  {
   "cell_type": "code",
   "execution_count": null,
   "id": "5f856580",
   "metadata": {},
   "outputs": [],
   "source": []
  },
  {
   "cell_type": "markdown",
   "id": "c40e19ce",
   "metadata": {},
   "source": [
    "`Example 3.0.5: A simple program to calculate the integral of sin(x) from 0 to pi:`"
   ]
  },
  {
   "cell_type": "code",
   "execution_count": 140,
   "id": "921eba19",
   "metadata": {},
   "outputs": [
    {
     "name": "stdout",
     "output_type": "stream",
     "text": [
      "The value of the integral is approximaely: 1.9998355038874436\n"
     ]
    }
   ],
   "source": [
    "def int_simple1(f,dx) :\n",
    "    \"\"\"\n",
    "    Simplest integration possible, using uniform rectangular slices. \n",
    "    This gives a rather poor result, with the error on the order of dx.\n",
    "    f [ ] should be a list of function values at x values separated by the interval dx.\n",
    "    The limits of integration are x [0] −> x [ 0 ] + dx ∗ len(f).\n",
    "\n",
    "    Note that this algorithm deosn't use the last point in f!\n",
    "    \"\"\"\n",
    "\n",
    "    return dx*sum (f[0:-1]) #The sum() function is built−in, and does exactly what you would expect.\n",
    "\n",
    "\n",
    "\n",
    "from math import *\n",
    "\n",
    "N = 100           #Higher N gives better results.\n",
    "a = 0.0\n",
    "b = pi\n",
    "interval = (b-a) / float(N)\n",
    "\n",
    "\n",
    "x = [a + interval * i for i in range(N+1)]        #Calculate the values of x to use .\n",
    "\n",
    "#notice that it takes N+1 function values to define N slices!\n",
    "\n",
    "\n",
    "FunctionValues = [sin(value) for value in x]                 #Calculate the values of f(x)\n",
    "\n",
    "print (f'The value of the integral is approximaely: {int_simple1(FunctionValues, interval)}')"
   ]
  },
  {
   "cell_type": "code",
   "execution_count": null,
   "id": "c7734b6f",
   "metadata": {},
   "outputs": [],
   "source": []
  },
  {
   "cell_type": "markdown",
   "id": "e82c4515",
   "metadata": {},
   "source": [
    "### Trapezoid Method ###\n",
    "\n",
    "We can greatly improve the efficiency of our integration by approximating\n",
    "the slices as trapezoids instead of as rectangles, as shown in figure 2.7.\n",
    "![fig 2.7](trap.jpg)\n",
    "\n",
    "![eq 2](equ2.png)\n",
    "\n",
    "This is probably the most efficient way to code the trapezoid method, al-\n",
    "though the actual function is left as an exercise."
   ]
  },
  {
   "cell_type": "markdown",
   "id": "d1e0198a",
   "metadata": {},
   "source": [
    "`Example 3.0.6:\n",
    "Let us use the trapezoidal rule to calculate the integral of x4 − 2x + 1 from\n",
    "x = 0 to x = 2. This is actually an integral we can do by hand, which means\n",
    "we don’t really need to do it using the computer in this case, but it’s a good\n",
    "first example because we can check easily if our program is working and how\n",
    "accurate an answer it gives.Here is a program to do the integration using the trapezoidal rule with N = 10 slices:`"
   ]
  },
  {
   "cell_type": "code",
   "execution_count": 7,
   "id": "9bbf7559",
   "metadata": {},
   "outputs": [
    {
     "name": "stdout",
     "output_type": "stream",
     "text": [
      "4.50656\n"
     ]
    }
   ],
   "source": [
    "def f(x):\n",
    "    return x**4-2*x+1\n",
    "\n",
    "\n",
    "N = 10\n",
    "a = 0; b = 2\n",
    "h = (b-a)/N\n",
    "\n",
    "trap = 0.5*f(a) + 0.5*f(b)\n",
    "\n",
    "for k in range(1,N):\n",
    "    trap += f(a+k*h)\n",
    "    \n",
    "print(h*trap)"
   ]
  },
  {
   "cell_type": "markdown",
   "id": "bbdbcb1a",
   "metadata": {},
   "source": [
    "This is a straightforward translation of the trapezoidal rule formula into com-\n",
    "puter code: we create a function that calculates the integrand, set up all the\n",
    "constants used, evaluate the sum for the integral I(a, b) term by term, and then\n",
    "multiply it by h and print it out.\n",
    "The correct answer is:\n",
    "![trapezoidal rule eg1](trap_eg.jpg)\n",
    "So our calculation is moderately but not exceptionally accurate—the answer is\n",
    "off by about 2%.\n",
    "\n",
    "We can make the calculation more accurate by increasing the number of\n",
    "slices, N."
   ]
  },
  {
   "cell_type": "markdown",
   "id": "5b4ca813",
   "metadata": {},
   "source": [
    "`Example 3.0.7:`"
   ]
  },
  {
   "cell_type": "code",
   "execution_count": 203,
   "id": "119cccb8",
   "metadata": {
    "scrolled": false
   },
   "outputs": [
    {
     "name": "stdout",
     "output_type": "stream",
     "text": [
      "  time, t (s)    x-velocity (m/s)    Distance (m)\n",
      "-------------  ------------------  --------------\n",
      "            0            0             nan\n",
      "            1            0.069478        0.203499\n",
      "            2            0.137694        0.278125\n",
      "            3            0.204332        0.327587\n",
      "            4            0.269083        0.362401\n",
      "            5            0.331656        0.38745\n",
      "            6            0.341561        0.35348\n",
      "            7            0.399991        0.372283\n",
      "            8            0.420132        0.355724\n",
      "            9            0.481123        0.373953\n",
      "           10            0.600344        0.43151\n"
     ]
    },
    {
     "data": {
      "text/plain": [
       "<AxesSubplot:xlabel='time, t (s)'>"
      ]
     },
     "execution_count": 203,
     "metadata": {},
     "output_type": "execute_result"
    },
    {
     "data": {
      "image/png": "[encoded data removed]",
      "text/plain": [
       "<Figure size 432x288 with 1 Axes>"
      ]
     },
     "metadata": {
      "needs_background": "light"
     },
     "output_type": "display_data"
    }
   ],
   "source": [
    "import pandas as pd\n",
    "from tabulate import tabulate\n",
    "vel_table = np.array([[0, 0],[1, 0.069478],[2, 0.137694],\n",
    "             [3, 0.204332], [4, 0.269083], [5, 0.331656], [6, 0.341561], [7, 0.399991],\n",
    "            [8, 0.420132], [9, 0.481123], [10, 0.600344]])\n",
    "#print(tabulate(vel_table))\n",
    "vel_table = pd.DataFrame(vel_table, columns=['time, t (s)', 'x-velocity (m/s)'])\n",
    "\n",
    "##type(vel_table)\n",
    "#vel_table = vel_table.set_index(['time, t (s)'])\n",
    "#vel_table.loc[0:5]\n",
    "m = vel_table.loc[:,'time, t (s)']\n",
    "n = vel_table.loc[:, 'x-velocity (m/s)']\n",
    "\n",
    "def vel_fn(x,t):\n",
    "    return x/t\n",
    "\n",
    "\n",
    "N = 10\n",
    "a = 0; b = 10\n",
    "h = (b-a)/N\n",
    "\n",
    "trap = 0.5*vel_fn(n,m) + 0.5*vel_fn(n,m)\n",
    "\n",
    "for k in range(1,N):\n",
    "    trap += vel_fn(n,m+k*h)\n",
    "    \n",
    "\n",
    "d_vals = h*trap\n",
    "#d_vals= pd.DataFrame(d_vals)\n",
    "vel_dist_table = vel_table['Distance (m)'] = d_vals \n",
    "vel_dist_table = vel_table\n",
    "z = vel_dist_table.set_index(['time, t (s)'])\n",
    "print(tabulate(z, headers=('time, t (s)', 'x-velocity (m/s)', 'Distance (m)')))\n",
    "z.plot()"
   ]
  },
  {
   "cell_type": "code",
   "execution_count": 197,
   "id": "766d5a77",
   "metadata": {},
   "outputs": [
    {
     "data": {
      "text/plain": [
       "<AxesSubplot:xlabel='time, t (s)'>"
      ]
     },
     "execution_count": 197,
     "metadata": {},
     "output_type": "execute_result"
    },
    {
     "data": {
      "image/png": "[encoded data removed]",
      "text/plain": [
       "<Figure size 432x288 with 1 Axes>"
      ]
     },
     "metadata": {
      "needs_background": "light"
     },
     "output_type": "display_data"
    }
   ],
   "source": []
  },
  {
   "cell_type": "code",
   "execution_count": 185,
   "id": "47c4d186",
   "metadata": {},
   "outputs": [
    {
     "data": {
      "text/html": [
       "<div>\n",
       "<style scoped>\n",
       "    .dataframe tbody tr th:only-of-type {\n",
       "        vertical-align: middle;\n",
       "    }\n",
       "\n",
       "    .dataframe tbody tr th {\n",
       "        vertical-align: top;\n",
       "    }\n",
       "\n",
       "    .dataframe thead th {\n",
       "        text-align: right;\n",
       "    }\n",
       "</style>\n",
       "<table border=\"1\" class=\"dataframe\">\n",
       "  <thead>\n",
       "    <tr style=\"text-align: right;\">\n",
       "      <th></th>\n",
       "      <th>time, t (s)</th>\n",
       "      <th>x-velocity (m/s)</th>\n",
       "      <th>Distance (m)</th>\n",
       "    </tr>\n",
       "  </thead>\n",
       "  <tbody>\n",
       "    <tr>\n",
       "      <th>0</th>\n",
       "      <td>0.0</td>\n",
       "      <td>0.000000</td>\n",
       "      <td>NaN</td>\n",
       "    </tr>\n",
       "    <tr>\n",
       "      <th>1</th>\n",
       "      <td>1.0</td>\n",
       "      <td>0.069478</td>\n",
       "      <td>0.203499</td>\n",
       "    </tr>\n",
       "    <tr>\n",
       "      <th>2</th>\n",
       "      <td>2.0</td>\n",
       "      <td>0.137694</td>\n",
       "      <td>0.278125</td>\n",
       "    </tr>\n",
       "    <tr>\n",
       "      <th>3</th>\n",
       "      <td>3.0</td>\n",
       "      <td>0.204332</td>\n",
       "      <td>0.327587</td>\n",
       "    </tr>\n",
       "    <tr>\n",
       "      <th>4</th>\n",
       "      <td>4.0</td>\n",
       "      <td>0.269083</td>\n",
       "      <td>0.362401</td>\n",
       "    </tr>\n",
       "    <tr>\n",
       "      <th>5</th>\n",
       "      <td>5.0</td>\n",
       "      <td>0.331656</td>\n",
       "      <td>0.387450</td>\n",
       "    </tr>\n",
       "    <tr>\n",
       "      <th>6</th>\n",
       "      <td>6.0</td>\n",
       "      <td>0.341561</td>\n",
       "      <td>0.353480</td>\n",
       "    </tr>\n",
       "    <tr>\n",
       "      <th>7</th>\n",
       "      <td>7.0</td>\n",
       "      <td>0.399991</td>\n",
       "      <td>0.372283</td>\n",
       "    </tr>\n",
       "    <tr>\n",
       "      <th>8</th>\n",
       "      <td>8.0</td>\n",
       "      <td>0.420132</td>\n",
       "      <td>0.355724</td>\n",
       "    </tr>\n",
       "    <tr>\n",
       "      <th>9</th>\n",
       "      <td>9.0</td>\n",
       "      <td>0.481123</td>\n",
       "      <td>0.373953</td>\n",
       "    </tr>\n",
       "    <tr>\n",
       "      <th>10</th>\n",
       "      <td>10.0</td>\n",
       "      <td>0.600344</td>\n",
       "      <td>0.431510</td>\n",
       "    </tr>\n",
       "  </tbody>\n",
       "</table>\n",
       "</div>"
      ],
      "text/plain": [
       "    time, t (s)  x-velocity (m/s)  Distance (m)\n",
       "0           0.0          0.000000           NaN\n",
       "1           1.0          0.069478      0.203499\n",
       "2           2.0          0.137694      0.278125\n",
       "3           3.0          0.204332      0.327587\n",
       "4           4.0          0.269083      0.362401\n",
       "5           5.0          0.331656      0.387450\n",
       "6           6.0          0.341561      0.353480\n",
       "7           7.0          0.399991      0.372283\n",
       "8           8.0          0.420132      0.355724\n",
       "9           9.0          0.481123      0.373953\n",
       "10         10.0          0.600344      0.431510"
      ]
     },
     "execution_count": 185,
     "metadata": {},
     "output_type": "execute_result"
    }
   ],
   "source": [
    "\n",
    "vel_table"
   ]
  },
  {
   "cell_type": "code",
   "execution_count": 133,
   "id": "1205aa32",
   "metadata": {},
   "outputs": [
    {
     "data": {
      "text/plain": [
       "0           NaN\n",
       "1     14.393045\n",
       "2     14.524961\n",
       "3     14.681988\n",
       "4     14.865302\n",
       "5     15.075862\n",
       "6     17.566408\n",
       "7     17.500394\n",
       "8     19.041635\n",
       "9     18.706235\n",
       "10    16.657117\n",
       "dtype: float64"
      ]
     },
     "execution_count": 133,
     "metadata": {},
     "output_type": "execute_result"
    }
   ],
   "source": [
    "vel_fn(m, n)"
   ]
  },
  {
   "cell_type": "markdown",
   "id": "3b7bf160",
   "metadata": {},
   "source": [
    "`Probem: Write a problem that uses the trapezoidal method to return the integral of a function over a given range, using a given number of sample points. The actual calculation should be a function of the form int_trap (f,dx), where f is a list of function values and dx is the slice width.`"
   ]
  },
  {
   "cell_type": "markdown",
   "id": "23526d94",
   "metadata": {},
   "source": [
    "### Simpson's Method ###"
   ]
  },
  {
   "cell_type": "markdown",
   "id": "5d7feae5",
   "metadata": {},
   "source": [
    "Simpson's Rule, named after the English mathematician Thomas Simpson (1710 - 1761),  is a numerical method that approximates the value of a definite integral by using quadratic functions.\n",
    "\n",
    "Simpson's Rule is based on the fact that given three points, we can find the equation of a quadratic through those points. To obtain an approximation of the definite integral ![simp_int](simp_int.jpg)using Simpson's Rule, we partition the interval\n",
    " <math xmlns=\"http://www.w3.org/1998/Math/MathML\">\n",
    "  <mrow data-mjx-texclass=\"INNER\">\n",
    "    <mo data-mjx-texclass=\"OPEN\">[</mo>\n",
    "    <mrow data-mjx-texclass=\"ORD\">\n",
    "      <mi>a</mi>\n",
    "      <mo>,</mo>\n",
    "      <mi>b</mi>\n",
    "    </mrow>\n",
    "    <mo data-mjx-texclass=\"CLOSE\">]</mo>\n",
    "  </mrow>\n",
    "</math>\n",
    " into an even number \n",
    " <math xmlns=\"http://www.w3.org/1998/Math/MathML\">\n",
    "  <mi>n</mi>\n",
    "</math>\n",
    " of subintervals, each of width:\n",
    " \n",
    " <math xmlns=\"http://www.w3.org/1998/Math/MathML\" display=\"inline\">\n",
    "  <mi mathvariant=\"normal\">&#x394;</mi>\n",
    "  <mi>x</mi>\n",
    "  <mo>=</mo>\n",
    "  (<mfrac>\n",
    "    <mrow data-mjx-texclass=\"ORD\">\n",
    "      <mi>b</mi>\n",
    "      <mo>&#x2212;</mo>\n",
    "      <mi>a</mi>\n",
    "    </mrow>\n",
    "  </mfrac>) / <mi>n</mi>\n",
    "</math>\n",
    "\n",
    "On each pair of consecutive subintervals\n",
    "<math xmlns=\"http://www.w3.org/1998/Math/MathML\">\n",
    "  <mrow data-mjx-texclass=\"INNER\">\n",
    "    <mo data-mjx-texclass=\"OPEN\">[</mo>\n",
    "    <mrow data-mjx-texclass=\"ORD\">\n",
    "      <mrow data-mjx-texclass=\"ORD\">\n",
    "        <msub>\n",
    "          <mi>x</mi>\n",
    "          <mrow data-mjx-texclass=\"ORD\">\n",
    "            <mi>i</mi>\n",
    "            <mo>&#x2212;</mo>\n",
    "            <mn>1</mn>\n",
    "          </mrow>\n",
    "        </msub>\n",
    "      </mrow>\n",
    "      <mo>,</mo>\n",
    "      <mrow data-mjx-texclass=\"ORD\">\n",
    "        <msub>\n",
    "          <mi>x</mi>\n",
    "          <mi>i</mi>\n",
    "        </msub>\n",
    "      </mrow>\n",
    "    </mrow>\n",
    "    <mo data-mjx-texclass=\"CLOSE\">]</mo>\n",
    "  </mrow>\n",
    "  <mo>,</mo>\n",
    "</math>,\n",
    "<math xmlns=\"http://www.w3.org/1998/Math/MathML\">\n",
    "  <mrow data-mjx-texclass=\"INNER\">\n",
    "    <mo data-mjx-texclass=\"OPEN\">[</mo>\n",
    "    <mrow data-mjx-texclass=\"ORD\">\n",
    "      <mrow data-mjx-texclass=\"ORD\">\n",
    "        <msub>\n",
    "          <mi>x</mi>\n",
    "          <mi>i</mi>\n",
    "        </msub>\n",
    "      </mrow>\n",
    "      <mo>,</mo>\n",
    "      <mrow data-mjx-texclass=\"ORD\">\n",
    "        <msub>\n",
    "          <mi>x</mi>\n",
    "          <mrow data-mjx-texclass=\"ORD\">\n",
    "            <mi>i</mi>\n",
    "            <mo>+</mo>\n",
    "            <mn>1</mn>\n",
    "          </mrow>\n",
    "        </msub>\n",
    "      </mrow>\n",
    "    </mrow>\n",
    "    <mo data-mjx-texclass=\"CLOSE\">]</mo>\n",
    "  </mrow>\n",
    "  <mo>,</mo>\n",
    "</math>\n",
    " we consider a quadratic function\n",
    " <math xmlns=\"http://www.w3.org/1998/Math/MathML\">\n",
    "  <mi>y</mi>\n",
    "  <mo>=</mo>\n",
    "  <mi>a</mi>\n",
    "  <mrow data-mjx-texclass=\"ORD\">\n",
    "    <msup>\n",
    "      <mi>x</mi>\n",
    "      <mn>2</mn>\n",
    "    </msup>\n",
    "  </mrow>\n",
    "  <mo>+</mo>\n",
    "  <mi>b</mi>\n",
    "  <mi>x</mi>\n",
    "  <mo>+</mo>\n",
    "  <mi>c</mi>\n",
    "</math>\n",
    " such that it passes through the points\n",
    " <math xmlns=\"http://www.w3.org/1998/Math/MathML\">\n",
    "  <mrow data-mjx-texclass=\"INNER\">\n",
    "    <mo data-mjx-texclass=\"OPEN\">(</mo>\n",
    "    <mrow data-mjx-texclass=\"ORD\">\n",
    "      <mrow data-mjx-texclass=\"ORD\">\n",
    "        <msub>\n",
    "          <mi>x</mi>\n",
    "          <mrow data-mjx-texclass=\"ORD\">\n",
    "            <mi>i</mi>\n",
    "            <mo>&#x2212;</mo>\n",
    "            <mn>1</mn>\n",
    "          </mrow>\n",
    "        </msub>\n",
    "      </mrow>\n",
    "      <mo>,</mo>\n",
    "      <mi>f</mi>\n",
    "      <mrow data-mjx-texclass=\"INNER\">\n",
    "        <mo data-mjx-texclass=\"OPEN\">(</mo>\n",
    "        <mrow data-mjx-texclass=\"ORD\">\n",
    "          <mrow data-mjx-texclass=\"ORD\">\n",
    "            <msub>\n",
    "              <mi>x</mi>\n",
    "              <mrow data-mjx-texclass=\"ORD\">\n",
    "                <mi>i</mi>\n",
    "                <mo>&#x2212;</mo>\n",
    "                <mn>1</mn>\n",
    "              </mrow>\n",
    "            </msub>\n",
    "          </mrow>\n",
    "        </mrow>\n",
    "        <mo data-mjx-texclass=\"CLOSE\">)</mo>\n",
    "      </mrow>\n",
    "    </mrow>\n",
    "    <mo data-mjx-texclass=\"CLOSE\">)</mo>\n",
    "  </mrow>\n",
    "  <mo>,</mo>\n",
    "</math>\n",
    "<math xmlns=\"http://www.w3.org/1998/Math/MathML\">\n",
    "  <mrow data-mjx-texclass=\"INNER\">\n",
    "    <mo data-mjx-texclass=\"OPEN\">(</mo>\n",
    "    <mrow data-mjx-texclass=\"ORD\">\n",
    "      <mrow data-mjx-texclass=\"ORD\">\n",
    "        <msub>\n",
    "          <mi>x</mi>\n",
    "          <mi>i</mi>\n",
    "        </msub>\n",
    "      </mrow>\n",
    "      <mo>,</mo>\n",
    "      <mi>f</mi>\n",
    "      <mrow data-mjx-texclass=\"INNER\">\n",
    "        <mo data-mjx-texclass=\"OPEN\">(</mo>\n",
    "        <mrow data-mjx-texclass=\"ORD\">\n",
    "          <mrow data-mjx-texclass=\"ORD\">\n",
    "            <msub>\n",
    "              <mi>x</mi>\n",
    "              <mi>i</mi>\n",
    "            </msub>\n",
    "          </mrow>\n",
    "        </mrow>\n",
    "        <mo data-mjx-texclass=\"CLOSE\">)</mo>\n",
    "      </mrow>\n",
    "    </mrow>\n",
    "    <mo data-mjx-texclass=\"CLOSE\">)</mo>\n",
    "  </mrow>\n",
    "  <mo>,</mo>\n",
    "</math>\n",
    "<math xmlns=\"http://www.w3.org/1998/Math/MathML\">\n",
    "  <mrow data-mjx-texclass=\"INNER\">\n",
    "    <mo data-mjx-texclass=\"OPEN\">(</mo>\n",
    "    <mrow data-mjx-texclass=\"ORD\">\n",
    "      <mrow data-mjx-texclass=\"ORD\">\n",
    "        <msub>\n",
    "          <mi>x</mi>\n",
    "          <mrow data-mjx-texclass=\"ORD\">\n",
    "            <mi>i</mi>\n",
    "            <mo>+</mo>\n",
    "            <mn>1</mn>\n",
    "          </mrow>\n",
    "        </msub>\n",
    "      </mrow>\n",
    "      <mo>,</mo>\n",
    "      <mi>f</mi>\n",
    "      <mrow data-mjx-texclass=\"INNER\">\n",
    "        <mo data-mjx-texclass=\"OPEN\">(</mo>\n",
    "        <mrow data-mjx-texclass=\"ORD\">\n",
    "          <mrow data-mjx-texclass=\"ORD\">\n",
    "            <msub>\n",
    "              <mi>x</mi>\n",
    "              <mrow data-mjx-texclass=\"ORD\">\n",
    "                <mi>i</mi>\n",
    "                <mo>+</mo>\n",
    "                <mn>1</mn>\n",
    "              </mrow>\n",
    "            </msub>\n",
    "          </mrow>\n",
    "        </mrow>\n",
    "        <mo data-mjx-texclass=\"CLOSE\">)</mo>\n",
    "      </mrow>\n",
    "    </mrow>\n",
    "    <mo data-mjx-texclass=\"CLOSE\">)</mo>\n",
    "  </mrow>\n",
    "  <mo>.</mo>\n",
    "</math>\n",
    "![simpson's method fig](simp.jpg)\n",
    "if the function\n",
    "<math xmlns=\"http://www.w3.org/1998/Math/MathML\">\n",
    "  <mi>f</mi>\n",
    "  <mrow data-mjx-texclass=\"INNER\">\n",
    "    <mo data-mjx-texclass=\"OPEN\">(</mo>\n",
    "    <mi>x</mi>\n",
    "    <mo data-mjx-texclass=\"CLOSE\">)</mo>\n",
    "  </mrow>\n",
    "</math>\n",
    "is continuous on\n",
    "<math xmlns=\"http://www.w3.org/1998/Math/MathML\">\n",
    "  <mrow data-mjx-texclass=\"INNER\">\n",
    "    <mo data-mjx-texclass=\"OPEN\">[</mo>\n",
    "    <mrow data-mjx-texclass=\"ORD\">\n",
    "      <mi>a</mi>\n",
    "      <mo>,</mo>\n",
    "      <mi>b</mi>\n",
    "    </mrow>\n",
    "    <mo data-mjx-texclass=\"CLOSE\">]</mo>\n",
    "  </mrow>\n",
    "</math>, then ![simp_formula](simp_form.jpg)\n",
    "\n"
   ]
  },
  {
   "cell_type": "markdown",
   "id": "a485b0b9",
   "metadata": {},
   "source": [
    "`Example 3.0.6: A Simpson’s method integration function is shown in this example:`\n"
   ]
  },
  {
   "cell_type": "code",
   "execution_count": 25,
   "id": "d162aae8",
   "metadata": {},
   "outputs": [],
   "source": [
    "def int_simpson(f,dx):\n",
    "    \"\"\"\n",
    "    Simpson's rule, using uniform slices. f[] should be a list of function values, separated on the x-axis by\n",
    "    the interval dx. The limits of integration are x[0] −> x [ 0 ] + dx ∗ len(f)\n",
    "    \n",
    "    This particular algorithm doesn't require that there be an even number of intervals (odd number of points):\n",
    "    instead, it adds the last section separately if necessary.\n",
    "    \"\"\"\n",
    "    N=len(f) # number of points\n",
    "    \n",
    "    integral = 0.0 #initial value of integral\n",
    "    \n",
    "    for i in range (1, N-1, 2):\n",
    "        integral = integral + f[i-1] + 4.0*f[i] + f[i+1]  #add up terms\n",
    "        \n",
    "    integral = integral * dx / 3.0\n",
    "    \n",
    "    if (N % 2) == 0:\n",
    "        integral = integral + dx * (5.0*f[-1] + 8.0*f[-2] - f[-3])/12.0\n",
    "        \n",
    "    return integral\n",
    "  \n"
   ]
  },
  {
   "cell_type": "code",
   "execution_count": 26,
   "id": "084efec2",
   "metadata": {},
   "outputs": [
    {
     "data": {
      "text/plain": [
       "32.0"
      ]
     },
     "execution_count": 26,
     "metadata": {},
     "output_type": "execute_result"
    }
   ],
   "source": [
    "c =[0,2,4,6,8]\n",
    "int_simpson(c, 2) "
   ]
  },
  {
   "cell_type": "markdown",
   "id": "5ff92805",
   "metadata": {},
   "source": [
    "`Example 3.0.7 : Use the Simpson's method with n = 4 to approximate the integral`\n",
    "    ![simp_example 3.0.7](simp_eg1.jpg)\n",
    "    \n",
    "`Let's see the solution here:`"
   ]
  },
  {
   "cell_type": "code",
   "execution_count": 3,
   "id": "d9ec91e0",
   "metadata": {},
   "outputs": [
    {
     "data": {
      "text/plain": [
       "14.855493563580856"
      ]
     },
     "execution_count": 3,
     "metadata": {},
     "output_type": "execute_result"
    }
   ],
   "source": [
    "'''\n",
    "Let's define a function (Simp_int) that uses the Simpson's rule to integrate a function, Fn\n",
    "from lower limit a, to upper limit b with n subintervals\n",
    "'''\n",
    "\n",
    "def simp_int(Fn, n, a, b):      \n",
    "    dx = (b-a)/n\n",
    "    Fn_val = []\n",
    "    i_val = []\n",
    "    from numpy import arange\n",
    "    for i,j in enumerate(arange(a, (b+dx), dx)):\n",
    "        Fx = Fn(j)\n",
    "        Fn_val.append(Fx)\n",
    "        i_val.append(i)\n",
    "    \n",
    "        if (n == 2):\n",
    "            if i == 0:\n",
    "                integral = Fn_val[i]\n",
    "            elif i == 1:\n",
    "                integral = integral + 4 * Fn_val[i]\n",
    "            else :\n",
    "                integral = integral + Fn_val[i]\n",
    "                \n",
    "        if (n == 4):\n",
    "            if i == 0:\n",
    "                integral = Fn_val[i]\n",
    "            elif i == 1:\n",
    "                integral = integral + 4 * Fn_val[i]\n",
    "            elif i == 2:\n",
    "                integral = integral + 2 * Fn_val[i]\n",
    "            elif i == 3:\n",
    "                integral = integral + 4 * Fn_val[i]\n",
    "            else :\n",
    "                integral = integral + Fn_val[i]\n",
    "        \n",
    "        if (n == 6):\n",
    "            if i == 0:\n",
    "                integral = Fn_val[i]\n",
    "            elif i == 1:\n",
    "                integral = integral + 4 * Fn_val[i]\n",
    "            elif i == 2:\n",
    "                integral = integral + 2 * Fn_val[i]\n",
    "            elif i == 3:\n",
    "                integral = integral + 4 * Fn_val[i]\n",
    "            elif i == 4:\n",
    "                integral = integral + 2 * Fn_val[i]\n",
    "            elif i == 5:\n",
    "                integral = integral + 4 * Fn_val[i]\n",
    "            else :\n",
    "                integral = integral + Fn_val[i]\n",
    "    integral = integral * dx / 3.0\n",
    "\n",
    "    #integral = (Fn_val[0]+ 4 * Fn_val[1] + 2 * Fn_val[2] + 4 * Fn_val[3]+ Fn_val[4])*dx/3   \n",
    "        \n",
    "    return integral\n",
    "\n",
    "\n",
    "\n",
    "'''\n",
    "Note that in this case:\n",
    "Fn = Sqrt(x)\n",
    "n = number of subintervals = 4\n",
    "a = lower limit = 0\n",
    "b = upper limit = 2\n",
    "'''\n",
    "\n",
    "#Now let's call our defined simpson's integral function on our function to be integrated\n",
    "\n",
    "simp_int(sqrt,4,0,8)\n"
   ]
  },
  {
   "cell_type": "markdown",
   "id": "77f6780e",
   "metadata": {},
   "source": [
    "`Example 3.0.8. Now let's look at another example:`\n",
    "\n",
    "Approximate the integral :\n",
    "![simp_example 3.0.8](simp_eg2.jpg)\n",
    "\n",
    "using Simpson's Rule with n = 2 subintervals."
   ]
  },
  {
   "cell_type": "code",
   "execution_count": 4,
   "id": "ec84cec7",
   "metadata": {
    "scrolled": true
   },
   "outputs": [
    {
     "data": {
      "text/plain": [
       "0.6944444444444443"
      ]
     },
     "execution_count": 4,
     "metadata": {},
     "output_type": "execute_result"
    }
   ],
   "source": [
    "#First let's define our main function to be integrated (1/x) as:\n",
    "\n",
    "def fn_1(x):\n",
    "    fn_1 = 1/x\n",
    "    return fn_1\n",
    "\n",
    "'''\n",
    "Note that in this case:\n",
    "Fn = 1/x\n",
    "n = 2\n",
    "a = 1\n",
    "b = 2\n",
    "'''\n",
    "#Now let's call our defined simpson's integral function on our function to be integrated\n",
    "\n",
    "simp_int(fn_1, 2, 1, 2 )\n"
   ]
  },
  {
   "cell_type": "markdown",
   "id": "02a985cb",
   "metadata": {},
   "source": [
    "`Example 3.0.9: A function f(x) is given as a table of values. Approximate the area under the curve y = f(x) from x = -4 and x = 8 using Simpson's Rule with n = 6 subintervals.`\n",
    "![simp_example 3.0.9](simp_eg31.jpg)\n",
    "`Here's the solution:`"
   ]
  },
  {
   "cell_type": "code",
   "execution_count": 263,
   "id": "fdfdd970",
   "metadata": {},
   "outputs": [
    {
     "name": "stdout",
     "output_type": "stream",
     "text": [
      "The area under the curve y = f (x) is : 66.0\n"
     ]
    }
   ],
   "source": [
    "'''\n",
    "Note that our work becomes easier since the table of values have already been given.\n",
    "\n",
    "'''\n",
    "a = -4 ; b =8\n",
    "\n",
    "dx = (8-(-4))/6\n",
    "\n",
    "#(f(x=0)+ 4f(x=1) + 2f(x=2) + 4f(x=3) + 2f(x=4) + 4f(x=5) + f(x=6)) * dx/3\n",
    "\n",
    "int_sum  =(1 + 4*3 + 2*4 + 4*4 + 2*6 + 4*9 + 14)\n",
    "ans = int_sum * dx/3\n",
    "print('The area under the curve y = f (x) is :', ans)"
   ]
  },
  {
   "cell_type": "markdown",
   "id": "ab682b55",
   "metadata": {},
   "source": [
    "`Problem 1: Find out other methods of numerical integration.`\n",
    "\n",
    "`Problem 2: A function f (x) is given by the table of values. Approximate the area under the curve y = f (x) between x = 0 and x = 4 using Simpson's method with n = 4 subintervals`\n",
    "![problem 3.2](prob_1.jpg) \n",
    "\n",
    "`Problem 3: Approximate the area under the curve `![problem 3.3](prob_3.jpg)\n",
    "`between x = -2 and x = 2 using Simpson's rule with n = 4 subintervals.`\n",
    "\n",
    "`Problem 4: Compare the results of the simple integration method, the trapezoid integration method and Simpson's method of integration for the following integrals:`\n",
    "![problem 3.4](prob_4.jpg)\n",
    "`For each part, try it with more and with fewer slices to determine\n",
    "how many slices are required to give an ‘acceptable’ answer. (If you\n",
    "double the number of slices and still get the same answer, then try half\n",
    "as many, etc.) Parts (c) and (d) are particularly interesting in this\n",
    "regard. In your submitted work, describe roughly how many points\n",
    "were required, and explain.\n",
    "\n",
    "Note : The function in (d) is the Fresnel Cosine Integral, used in op-\n",
    "tics. It may be helpful in understanding what’s going on with your\n",
    "integration if you make a graph of the function.`"
   ]
  },
  {
   "cell_type": "code",
   "execution_count": null,
   "id": "731b6fb1",
   "metadata": {},
   "outputs": [],
   "source": []
  },
  {
   "cell_type": "code",
   "execution_count": null,
   "id": "3836b1a2",
   "metadata": {},
   "outputs": [],
   "source": []
  },
  {
   "cell_type": "markdown",
   "id": "d50a0fd2",
   "metadata": {},
   "source": [
    "## 3.3 NUMERIC DIFFERENTIATION ##"
   ]
  },
  {
   "cell_type": "markdown",
   "id": "de67e17c",
   "metadata": {},
   "source": [
    "The 'sonic ranger' is one of the tools commonly used in an introductory physics laboratory. It uses pulses of sound to determine the distance between a sensor and some object, typically a dynamics cart. This instrument measures distance only, however, we would like to calculate the velocity and acceleration as well.\n",
    "This is where numeric differentiation becomes useful.\n",
    "\n",
    "One way to find a numeric derivative is to start with the normal definition of a derivative:\n",
    "![der](der.jpg)\n",
    "\n",
    "So we could approximate the derivative by taking the difference between two successive data points and dividing by the distance between them:\n",
    "![der 1](der1.jpg)\n",
    "\n",
    "where the notation![der 1](der2.jpg)is used to indicate the discrete nature of our data and simplify the expression. This simple approach works, but there are better methods."
   ]
  },
  {
   "cell_type": "code",
   "execution_count": 6,
   "id": "9db9f701",
   "metadata": {},
   "outputs": [
    {
     "name": "stdout",
     "output_type": "stream",
     "text": [
      "-0.9999966706326076\n"
     ]
    }
   ],
   "source": [
    "from scipy.misc import derivative\n",
    "\n",
    "print(derivative(sin, pi, dx=0.1, order=5))"
   ]
  },
  {
   "cell_type": "code",
   "execution_count": 194,
   "id": "e932b673",
   "metadata": {},
   "outputs": [
    {
     "data": {
      "text/plain": [
       "3.0"
      ]
     },
     "execution_count": 194,
     "metadata": {},
     "output_type": "execute_result"
    }
   ],
   "source": [
    "proper_round(2.5)"
   ]
  },
  {
   "cell_type": "code",
   "execution_count": null,
   "id": "cd6f3720",
   "metadata": {},
   "outputs": [],
   "source": []
  }
 ],
 "metadata": {
  "kernelspec": {
   "display_name": "Python 3",
   "language": "python",
   "name": "python3"
  },
  "language_info": {
   "codemirror_mode": {
    "name": "ipython",
    "version": 3
   },
   "file_extension": ".py",
   "mimetype": "text/x-python",
   "name": "python",
   "nbconvert_exporter": "python",
   "pygments_lexer": "ipython3",
   "version": "3.9.2"
  }
 },
 "nbformat": 4,
 "nbformat_minor": 5
}

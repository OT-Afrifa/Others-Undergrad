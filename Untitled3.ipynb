{
 "cells": [
  {
   "cell_type": "code",
   "execution_count": null,
   "id": "5362309b",
   "metadata": {},
   "outputs": [],
   "source": []
  },
  {
   "cell_type": "code",
   "execution_count": 8,
   "id": "90a91298",
   "metadata": {},
   "outputs": [
    {
     "name": "stdout",
     "output_type": "stream",
     "text": [
      "'12_final code(not done).ipynb'   \u001b[0m\u001b[01;34mData\u001b[0m/           \u001b[01;34mLDS_data\u001b[0m/\r\n",
      " \u001b[01;34mBACKUP_DANIEL\u001b[0m/                   \u001b[01;34mData_request\u001b[0m/   \u001b[01;34mNew_data\u001b[0m/\r\n",
      "'calc prob.png'                   \u001b[34;42mDATASETS\u001b[0m/       \u001b[01;34mProj\u001b[0m/\r\n",
      "\u001b[01;34m'Computing Physics'\u001b[0m/              drop.jpg        Specific_humidity.nc\r\n",
      "'Computing Physics1.zip'          euler.png       specific-humidity.py\r\n",
      " Computing_Physics.ipynb          hw17.pdf        Untitled1.ipynb\r\n",
      "'Computing Physics.zip'           injec1.png      Untitled2.ipynb\r\n",
      " \u001b[01;34mcosmic\u001b[0m/                          injec.png       Untitled3.ipynb\r\n",
      " \u001b[01;34md\u001b[0m/                               \u001b[01;34mInternship\u001b[0m/     Untitled.ipynb\r\n"
     ]
    }
   ],
   "source": [
    "ls"
   ]
  },
  {
   "cell_type": "code",
   "execution_count": 9,
   "id": "80fdc4ec",
   "metadata": {},
   "outputs": [
    {
     "name": "stdout",
     "output_type": "stream",
     "text": [
      "/home/receiver/Desktop/DATASETS/CHIRPS\n"
     ]
    }
   ],
   "source": [
    "cd DATASETS/CHIRPS/"
   ]
  },
  {
   "cell_type": "code",
   "execution_count": 13,
   "id": "35172765",
   "metadata": {},
   "outputs": [
    {
     "name": "stdout",
     "output_type": "stream",
     "text": [
      "\u001b[0m\u001b[01;32mchirps.ipynb\u001b[0m*  \u001b[34;42mPRECIP_1980_2017\u001b[0m/     sam_proj.ipynb\r\n",
      "chirps_new.nc  PRECIP_1980_2017.zip\r\n"
     ]
    }
   ],
   "source": [
    "ls"
   ]
  },
  {
   "cell_type": "code",
   "execution_count": 3,
   "id": "01a32a6c",
   "metadata": {},
   "outputs": [
    {
     "name": "stdout",
     "output_type": "stream",
     "text": [
      " \u001b[0m\u001b[01;32mcds_data_retrieval.py\u001b[0m*            'myfunct1 (copy).py'\r\n",
      " \u001b[01;34mcmip6_da-max_near_surf_temp\u001b[0m/       myfunct1.py\r\n",
      " \u001b[01;34mcmip6_da-min_near_surf_temp\u001b[0m/      'projections(merged) (copy).ipynb'\r\n",
      "'cmip6-hist_pre vrs sce_proj.jpg'  'projections(merged).ipynb'\r\n",
      "'cmip6-hist_pre vrs sce_proj.pdf'   Proj_scenarios.ipynb\r\n",
      " \u001b[01;34mcmip6_near_surf_temp\u001b[0m/              \u001b[01;34m__pycache__\u001b[0m/\r\n",
      " \u001b[01;34mcmip6_pre\u001b[0m/                         RAI_Francis.ipynb\r\n",
      "\u001b[01;34m'cmip6_total runoff'\u001b[0m/               sam_proj.ipynb\r\n",
      " cru_merged.nc                      ssp5_max1.nc\r\n",
      " cru_ts4.05.1901.2020.tmp.dat.nc    ssp5_max.nc\r\n",
      " \u001b[34;42mFigures\u001b[0m/                           ssp5_min1.nc\r\n",
      " Final.ipynb                        ssp5_min.nc\r\n",
      " Francis1.ipynb                    \u001b[01;32m'Talensi_Assessment (copy).ipynb'\u001b[0m*\r\n",
      "'Francis_2(SPI_Polar_plot).ipynb'   \u001b[01;32mTalensi_Assessment.ipynb\u001b[0m*\r\n",
      " \u001b[01;32mFuture_projections.ipynb\u001b[0m*          test_taylor.png\r\n",
      " \u001b[01;34mmerged_cmip6_data\u001b[0m/                 Untitled1.ipynb\r\n",
      " \u001b[01;34mmerged_cmip6_maxtemp_data\u001b[0m/         Untitled4.ipynb\r\n",
      " merged_cmip6_pre.ipynb             Untitled5.ipynb\r\n",
      " \u001b[01;34mmerged_cmip6_temp_data\u001b[0m/            \u001b[01;32mUntitled6.ipynb\u001b[0m*\r\n",
      " model_function.ipynb               Untitled7.ipynb\r\n",
      " model_functions.py                 Untitled8.ipynb\r\n"
     ]
    }
   ],
   "source": [
    "ls"
   ]
  },
  {
   "cell_type": "code",
   "execution_count": 12,
   "id": "9cee224a",
   "metadata": {},
   "outputs": [],
   "source": [
    "mv /home/receiver/Desktop/Data/CMIP6/sam_proj.ipynb /home/receiver/Desktop/DATASETS/CHIRPS"
   ]
  },
  {
   "cell_type": "code",
   "execution_count": null,
   "id": "a5868616",
   "metadata": {},
   "outputs": [],
   "source": []
  }
 ],
 "metadata": {
  "kernelspec": {
   "display_name": "Python 3",
   "language": "python",
   "name": "python3"
  },
  "language_info": {
   "codemirror_mode": {
    "name": "ipython",
    "version": 3
   },
   "file_extension": ".py",
   "mimetype": "text/x-python",
   "name": "python",
   "nbconvert_exporter": "python",
   "pygments_lexer": "ipython3",
   "version": "3.9.2"
  }
 },
 "nbformat": 4,
 "nbformat_minor": 5
}

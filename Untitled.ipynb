{
 "cells": [
  {
   "cell_type": "code",
   "execution_count": 1,
   "id": "4077d4a9",
   "metadata": {},
   "outputs": [],
   "source": [
    "from math import *\n",
    "import sympy as sp\n",
    "\n",
    "sp.init_printing()"
   ]
  },
  {
   "cell_type": "code",
   "execution_count": 133,
   "id": "012da855",
   "metadata": {},
   "outputs": [
    {
     "data": {
      "image/png": "[encoded data removed]",
      "text/latex": [
       "$\\displaystyle - \\sin{\\left(x \\right)}$"
      ],
      "text/plain": [
       "-sin(x)"
      ]
     },
     "execution_count": 133,
     "metadata": {},
     "output_type": "execute_result"
    }
   ],
   "source": [
    "x,y,z,f = sp.symbols('x,y,z,f')\n",
    "\n",
    "g = sp.cos(x)\n",
    "\n",
    "b = sp.diff(g)\n",
    "b\n",
    "#f = sp.Function('f')\n",
    "#f = g"
   ]
  },
  {
   "cell_type": "code",
   "execution_count": 136,
   "id": "d8f20722",
   "metadata": {},
   "outputs": [
    {
     "data": {
      "image/png": "[encoded data removed]",
      "text/latex": [
       "$\\displaystyle - \\sin{\\left(2 \\right)}$"
      ],
      "text/plain": [
       "-sin(2)"
      ]
     },
     "execution_count": 136,
     "metadata": {},
     "output_type": "execute_result"
    }
   ],
   "source": [
    "b.subs(x,2)#.evalf()"
   ]
  },
  {
   "cell_type": "code",
   "execution_count": 159,
   "id": "2766c626",
   "metadata": {},
   "outputs": [
    {
     "name": "stdout",
     "output_type": "stream",
     "text": [
      "Enter a guess: 2\n"
     ]
    },
    {
     "data": {
      "image/png": "[encoded data removed]",
      "text/latex": [
       "$\\displaystyle 1.54234244563971$"
      ],
      "text/plain": [
       "1.54234244563971"
      ]
     },
     "execution_count": 159,
     "metadata": {},
     "output_type": "execute_result"
    }
   ],
   "source": [
    "x,y,z,f = sp.symbols('x,y,z,f')\n",
    "\n",
    "\n",
    "guess = int(input('Enter a guess: ' ))\n",
    "g = sp.cos(x)\n",
    "\n",
    "\n",
    "#g = sp.diff(g).subs(x, guess)\n",
    "#g = g.subs(x, guess)\n",
    "#h = g\n",
    "\n",
    "\n",
    "der = lambda fn:sp.diff(fn,x).subs(x, guess)#.evalf()\n",
    "df = der(g)\n",
    "\n",
    "#g = g.evalf()\n",
    "\n",
    "\n",
    "#x1 = x- f\n",
    "x1 = guess - g.subs(x,guess).evalf()/df.evalf()\n",
    "#x1 = x1.subs(x, x)\n",
    "#x1 = x1.evalf()\n",
    "\n",
    "x1\n",
    "#x2 = sp.diff(x1,x)\n",
    "#q = x2.subs(x,2)\n",
    "#q#.evalf()\n",
    "\n",
    "#print(df, guess)"
   ]
  },
  {
   "cell_type": "code",
   "execution_count": 168,
   "id": "d055fc78",
   "metadata": {},
   "outputs": [
    {
     "data": {
      "image/png": "[encoded data removed]",
      "text/latex": [
       "$\\displaystyle 0.457657554360286$"
      ],
      "text/plain": [
       "0.457657554360286"
      ]
     },
     "execution_count": 168,
     "metadata": {},
     "output_type": "execute_result"
    }
   ],
   "source": [
    "abs(guess-x1)"
   ]
  },
  {
   "cell_type": "code",
   "execution_count": 7,
   "id": "c5c50f2d",
   "metadata": {},
   "outputs": [],
   "source": [
    "def root_newton(f, df, guess, tolerance = 1.0e-6):\n",
    "    '''\n",
    "    Uses the Newton's method to find a value x near guess\n",
    "    for which f(x) = 0 , to within the tolerance given.\n",
    "\n",
    "    Default tolerance is 1.0e−6, if no tolerance is specified in the function call.\n",
    "    It is required to pass this function both f(x) and f'(x).\n",
    "\n",
    "    '''\n",
    "    dx = 2*tolerance          #Initial dx > delta\n",
    "    x=sp.Symbol('x')\n",
    "    #x = guess\n",
    "    #x=int(x)\n",
    "    while dx > tolerance:  #loop until dx < tolerance\n",
    "        \n",
    "        x1 = guess - f.subs(x, guess).evalf()/df.evalf()\n",
    "        #x1 = x1.subs(x,guess)\n",
    "        #x1 = x1.evalf()\n",
    "\n",
    "        #x1 = x - f/df#/df #Point-slope form of line\n",
    "        dx = abs(guess-x1)      #How much have things changed?\n",
    "        x = x1              #Here's the new value\n",
    "    \n",
    "    return x"
   ]
  },
  {
   "cell_type": "code",
   "execution_count": 9,
   "id": "a8f2e1f2",
   "metadata": {},
   "outputs": [
    {
     "ename": "TypeError",
     "evalue": "cannot determine truth value of Relational",
     "output_type": "error",
     "traceback": [
      "\u001b[0;31m---------------------------------------------------------------------------\u001b[0m",
      "\u001b[0;31mTypeError\u001b[0m                                 Traceback (most recent call last)",
      "\u001b[0;32m<ipython-input-9-bfcf5a720802>\u001b[0m in \u001b[0;36m<module>\u001b[0;34m\u001b[0m\n\u001b[1;32m      1\u001b[0m \u001b[0mg\u001b[0m \u001b[0;34m=\u001b[0m \u001b[0msp\u001b[0m\u001b[0;34m.\u001b[0m\u001b[0mcos\u001b[0m\u001b[0;34m(\u001b[0m\u001b[0mx\u001b[0m\u001b[0;34m)\u001b[0m\u001b[0;34m\u001b[0m\u001b[0;34m\u001b[0m\u001b[0m\n\u001b[1;32m      2\u001b[0m \u001b[0mder\u001b[0m \u001b[0;34m=\u001b[0m \u001b[0;32mlambda\u001b[0m \u001b[0mfn\u001b[0m\u001b[0;34m:\u001b[0m\u001b[0msp\u001b[0m\u001b[0;34m.\u001b[0m\u001b[0mdiff\u001b[0m\u001b[0;34m(\u001b[0m\u001b[0mfn\u001b[0m\u001b[0;34m,\u001b[0m\u001b[0mx\u001b[0m\u001b[0;34m)\u001b[0m\u001b[0;34m\u001b[0m\u001b[0;34m\u001b[0m\u001b[0m\n\u001b[0;32m----> 3\u001b[0;31m \u001b[0mtheta_1\u001b[0m \u001b[0;34m=\u001b[0m \u001b[0mroot_newton\u001b[0m\u001b[0;34m(\u001b[0m\u001b[0mg\u001b[0m\u001b[0;34m,\u001b[0m \u001b[0mder\u001b[0m\u001b[0;34m(\u001b[0m\u001b[0mg\u001b[0m\u001b[0;34m)\u001b[0m\u001b[0;34m,\u001b[0m \u001b[0;36m2\u001b[0m\u001b[0;34m)\u001b[0m\u001b[0;34m\u001b[0m\u001b[0;34m\u001b[0m\u001b[0m\n\u001b[0m",
      "\u001b[0;32m<ipython-input-7-df5e602eacb4>\u001b[0m in \u001b[0;36mroot_newton\u001b[0;34m(f, df, guess, tolerance)\u001b[0m\n\u001b[1;32m     12\u001b[0m     \u001b[0;31m#x = guess\u001b[0m\u001b[0;34m\u001b[0m\u001b[0;34m\u001b[0m\u001b[0;34m\u001b[0m\u001b[0m\n\u001b[1;32m     13\u001b[0m     \u001b[0;31m#x=int(x)\u001b[0m\u001b[0;34m\u001b[0m\u001b[0;34m\u001b[0m\u001b[0;34m\u001b[0m\u001b[0m\n\u001b[0;32m---> 14\u001b[0;31m     \u001b[0;32mwhile\u001b[0m \u001b[0mdx\u001b[0m \u001b[0;34m>\u001b[0m \u001b[0mtolerance\u001b[0m\u001b[0;34m:\u001b[0m  \u001b[0;31m#loop until dx < tolerance\u001b[0m\u001b[0;34m\u001b[0m\u001b[0;34m\u001b[0m\u001b[0m\n\u001b[0m\u001b[1;32m     15\u001b[0m \u001b[0;34m\u001b[0m\u001b[0m\n\u001b[1;32m     16\u001b[0m         \u001b[0mx1\u001b[0m \u001b[0;34m=\u001b[0m \u001b[0mguess\u001b[0m \u001b[0;34m-\u001b[0m \u001b[0mf\u001b[0m\u001b[0;34m.\u001b[0m\u001b[0msubs\u001b[0m\u001b[0;34m(\u001b[0m\u001b[0mx\u001b[0m\u001b[0;34m,\u001b[0m \u001b[0mguess\u001b[0m\u001b[0;34m)\u001b[0m\u001b[0;34m.\u001b[0m\u001b[0mevalf\u001b[0m\u001b[0;34m(\u001b[0m\u001b[0;34m)\u001b[0m\u001b[0;34m/\u001b[0m\u001b[0mdf\u001b[0m\u001b[0;34m.\u001b[0m\u001b[0mevalf\u001b[0m\u001b[0;34m(\u001b[0m\u001b[0;34m)\u001b[0m\u001b[0;34m\u001b[0m\u001b[0;34m\u001b[0m\u001b[0m\n",
      "\u001b[0;32m/usr/lib/python3/dist-packages/sympy/core/relational.py\u001b[0m in \u001b[0;36m__bool__\u001b[0;34m(self)\u001b[0m\n\u001b[1;32m    393\u001b[0m \u001b[0;34m\u001b[0m\u001b[0m\n\u001b[1;32m    394\u001b[0m     \u001b[0;32mdef\u001b[0m \u001b[0m__bool__\u001b[0m\u001b[0;34m(\u001b[0m\u001b[0mself\u001b[0m\u001b[0;34m)\u001b[0m\u001b[0;34m:\u001b[0m\u001b[0;34m\u001b[0m\u001b[0;34m\u001b[0m\u001b[0m\n\u001b[0;32m--> 395\u001b[0;31m         \u001b[0;32mraise\u001b[0m \u001b[0mTypeError\u001b[0m\u001b[0;34m(\u001b[0m\u001b[0;34m\"cannot determine truth value of Relational\"\u001b[0m\u001b[0;34m)\u001b[0m\u001b[0;34m\u001b[0m\u001b[0;34m\u001b[0m\u001b[0m\n\u001b[0m\u001b[1;32m    396\u001b[0m \u001b[0;34m\u001b[0m\u001b[0m\n\u001b[1;32m    397\u001b[0m     \u001b[0;32mdef\u001b[0m \u001b[0m_eval_as_set\u001b[0m\u001b[0;34m(\u001b[0m\u001b[0mself\u001b[0m\u001b[0;34m)\u001b[0m\u001b[0;34m:\u001b[0m\u001b[0;34m\u001b[0m\u001b[0;34m\u001b[0m\u001b[0m\n",
      "\u001b[0;31mTypeError\u001b[0m: cannot determine truth value of Relational"
     ]
    }
   ],
   "source": [
    "g = sp.cos(x)\n",
    "der = lambda fn:sp.diff(fn,x)\n",
    "theta_1 = root_newton(g, der(g), 2)"
   ]
  },
  {
   "cell_type": "code",
   "execution_count": null,
   "id": "2e30ecb5",
   "metadata": {},
   "outputs": [],
   "source": [
    "x,y,z,f = sp.symbols('x,y,z,f')\n",
    "\n",
    "tolerance = 1.0e-6\n",
    "guess = 2\n",
    "f = sp.cos(x)\n",
    "der = lambda fn:sp.diff(fn,x)#.subs(x, guess)#.evalf()\n",
    "df = der(f)\n",
    "\n",
    "\n",
    "dx = 2*tolerance          #Initial dx > delta\n",
    "#x = guess\n",
    "#x=int(x)\n",
    "while dx > tolerance:  #loop until dx < tolerance\n",
    "    \n",
    "    x1 = guess - f.subs(x, guess).evalf()/df.subs(x, guess).evalf()\n",
    "    #x1 = x1.subs(x,guess)\n",
    "    #x1 = x1.evalf()\n",
    "    dx = abs(guess-x1)      #How much have things changed?\n",
    "    x = x1 \n",
    "    #x1 = x - f/df#/df #Point-slope form of line\n",
    "   \n",
    "    \n",
    "print(x)\n",
    "    \n",
    "\n",
    "#der(f)"
   ]
  },
  {
   "cell_type": "code",
   "execution_count": null,
   "id": "3ac5349f",
   "metadata": {},
   "outputs": [],
   "source": [
    "#theta_1 = root_newton(g, der(g), 1)"
   ]
  },
  {
   "cell_type": "code",
   "execution_count": null,
   "id": "711c6372",
   "metadata": {},
   "outputs": [],
   "source": []
  }
 ],
 "metadata": {
  "kernelspec": {
   "display_name": "Python 3",
   "language": "python",
   "name": "python3"
  },
  "language_info": {
   "codemirror_mode": {
    "name": "ipython",
    "version": 3
   },
   "file_extension": ".py",
   "mimetype": "text/x-python",
   "name": "python",
   "nbconvert_exporter": "python",
   "pygments_lexer": "ipython3",
   "version": "3.9.2"
  }
 },
 "nbformat": 4,
 "nbformat_minor": 5
}

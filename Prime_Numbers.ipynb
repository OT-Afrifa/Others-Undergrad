{
 "cells": [
  {
   "cell_type": "code",
   "execution_count": 15,
   "id": "836a02cf",
   "metadata": {},
   "outputs": [
    {
     "name": "stdout",
     "output_type": "stream",
     "text": [
      "Enter a number: 2\n",
      "2 is a prime number\n"
     ]
    }
   ],
   "source": [
    "number = int( input('Enter a number: ') )\n",
    "\n",
    "count = 0  #Increase based on a condition we set ()\n",
    "i = 2\n",
    "while i <= number:\n",
    "    if number%i == 0:\n",
    "        count+=1\n",
    "    i+=1\n",
    "        \n",
    "if count == 1:\n",
    "    print(number, 'is a prime number')\n",
    "else:\n",
    "    print(number, 'is not a prime number')"
   ]
  },
  {
   "cell_type": "code",
   "execution_count": 13,
   "id": "913da9b4",
   "metadata": {},
   "outputs": [
    {
     "name": "stdout",
     "output_type": "stream",
     "text": [
      "2 1\n",
      "3 2\n",
      "4 2\n",
      "5 2\n",
      "6 3\n"
     ]
    }
   ],
   "source": [
    "count = 0\n",
    "i = 2\n",
    "while i <= 6:\n",
    "    if (6%i)==0:\n",
    "        count+=1\n",
    "    print(i, count)\n",
    "    i+=1"
   ]
  },
  {
   "cell_type": "code",
   "execution_count": null,
   "id": "27b28f00",
   "metadata": {},
   "outputs": [],
   "source": []
  }
 ],
 "metadata": {
  "kernelspec": {
   "display_name": "Python 3 (ipykernel)",
   "language": "python",
   "name": "python3"
  },
  "language_info": {
   "codemirror_mode": {
    "name": "ipython",
    "version": 3
   },
   "file_extension": ".py",
   "mimetype": "text/x-python",
   "name": "python",
   "nbconvert_exporter": "python",
   "pygments_lexer": "ipython3",
   "version": "3.8.12"
  }
 },
 "nbformat": 4,
 "nbformat_minor": 5
}
